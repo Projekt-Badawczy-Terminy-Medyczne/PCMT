{
  "cells": [
    {
      "cell_type": "code",
      "execution_count": null,
      "metadata": {
        "id": "uozDR4aLWkQs"
      },
      "outputs": [],
      "source": [
        "from google.colab import drive\n",
        "drive.mount('/content/drive')"
      ]
    },
    {
      "cell_type": "code",
      "source": [
        "# create directory for data\n",
        "!mkdir data\n",
        "\n",
        "# unzip files from zip folder\n",
        "!unzip \"/content/drive/MyDrive/PG/PB/Projekt badawczy - terminy medyczne/001_004.zip\" -d \"data/\""
      ],
      "metadata": {
        "id": "E1CTlYqUWwuX"
      },
      "execution_count": null,
      "outputs": []
    },
    {
      "cell_type": "code",
      "source": [
        "data_directory = \"./data/001_004/\""
      ],
      "metadata": {
        "id": "1MJFhSPPW1jb"
      },
      "execution_count": null,
      "outputs": []
    },
    {
      "cell_type": "code",
      "source": [
        "import pathlib\n",
        "import librosa\n",
        "import librosa.display\n",
        "import matplotlib.pyplot as plt\n",
        "import numpy as np\n",
        "from pydub import AudioSegment, effects\n",
        "import os"
      ],
      "metadata": {
        "id": "Uub7OdHEW5B-"
      },
      "execution_count": null,
      "outputs": []
    },
    {
      "cell_type": "code",
      "source": [
        "data_path = pathlib.Path(data_directory)\n",
        "\n",
        "files = list(data_path.glob('*.wav'))"
      ],
      "metadata": {
        "id": "QQF5yirLW7WI"
      },
      "execution_count": null,
      "outputs": []
    }
  ],
  "metadata": {
    "language_info": {
      "name": "python"
    },
    "colab": {
      "provenance": []
    },
    "kernelspec": {
      "name": "python3",
      "display_name": "Python 3"
    }
  },
  "nbformat": 4,
  "nbformat_minor": 0
}