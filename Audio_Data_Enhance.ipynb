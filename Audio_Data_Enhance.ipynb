{
  "cells": [
    {
      "cell_type": "markdown",
      "source": [
        "## Initialization"
      ],
      "metadata": {
        "id": "9rwL4_85jQQh"
      }
    },
    {
      "cell_type": "code",
      "execution_count": 1,
      "metadata": {
        "colab": {
          "base_uri": "https://localhost:8080/"
        },
        "id": "uozDR4aLWkQs",
        "outputId": "b794d894-2694-49ac-af59-960d3762da96"
      },
      "outputs": [
        {
          "output_type": "stream",
          "name": "stdout",
          "text": [
            "Drive already mounted at /content/drive; to attempt to forcibly remount, call drive.mount(\"/content/drive\", force_remount=True).\n"
          ]
        }
      ],
      "source": [
        "from google.colab import drive\n",
        "drive.mount('/content/drive')"
      ]
    },
    {
      "cell_type": "code",
      "source": [
        "# create directory for data\n",
        "!mkdir data\n",
        "\n",
        "# unzip files from zip folder\n",
        "!unzip \"/content/drive/MyDrive/PG/PB/Projekt badawczy - terminy medyczne/001_004.zip\" -d \"data/\""
      ],
      "metadata": {
        "colab": {
          "base_uri": "https://localhost:8080/"
        },
        "id": "E1CTlYqUWwuX",
        "outputId": "be630dec-4b9e-45f4-bbb9-9915e88dbeff"
      },
      "execution_count": 2,
      "outputs": [
        {
          "output_type": "stream",
          "name": "stdout",
          "text": [
            "mkdir: cannot create directory ‘data’: File exists\n",
            "Archive:  /content/drive/MyDrive/PG/PB/Projekt badawczy - terminy medyczne/001_004.zip\n",
            "replace data/001_004/001_004_online.csv? [y]es, [n]o, [A]ll, [N]one, [r]ename: N\n"
          ]
        }
      ]
    },
    {
      "cell_type": "markdown",
      "source": [
        "## Package installation"
      ],
      "metadata": {
        "id": "87DnPpNfXkD3"
      }
    },
    {
      "cell_type": "code",
      "source": [
        "!pip install resemble-enhance --upgrade\n"
      ],
      "metadata": {
        "id": "19pEwF2FXwt7",
        "outputId": "9c745290-c3d3-44c4-db59-e4119a1c8ab0",
        "colab": {
          "base_uri": "https://localhost:8080/"
        }
      },
      "execution_count": 3,
      "outputs": [
        {
          "output_type": "stream",
          "name": "stdout",
          "text": [
            "Requirement already satisfied: resemble-enhance in /usr/local/lib/python3.10/dist-packages (0.0.1)\n",
            "Requirement already satisfied: celluloid==0.2.0 in /usr/local/lib/python3.10/dist-packages (from resemble-enhance) (0.2.0)\n",
            "Requirement already satisfied: deepspeed==0.12.4 in /usr/local/lib/python3.10/dist-packages (from resemble-enhance) (0.12.4)\n",
            "Requirement already satisfied: librosa==0.10.1 in /usr/local/lib/python3.10/dist-packages (from resemble-enhance) (0.10.1)\n",
            "Requirement already satisfied: matplotlib==3.8.1 in /usr/local/lib/python3.10/dist-packages (from resemble-enhance) (3.8.1)\n",
            "Requirement already satisfied: numpy==1.26.2 in /usr/local/lib/python3.10/dist-packages (from resemble-enhance) (1.26.2)\n",
            "Requirement already satisfied: omegaconf==2.3.0 in /usr/local/lib/python3.10/dist-packages (from resemble-enhance) (2.3.0)\n",
            "Requirement already satisfied: pandas==2.1.3 in /usr/local/lib/python3.10/dist-packages (from resemble-enhance) (2.1.3)\n",
            "Requirement already satisfied: ptflops==0.7.1.2 in /usr/local/lib/python3.10/dist-packages (from resemble-enhance) (0.7.1.2)\n",
            "Requirement already satisfied: rich==13.7.0 in /usr/local/lib/python3.10/dist-packages (from resemble-enhance) (13.7.0)\n",
            "Requirement already satisfied: scipy==1.11.4 in /usr/local/lib/python3.10/dist-packages (from resemble-enhance) (1.11.4)\n",
            "Requirement already satisfied: soundfile==0.12.1 in /usr/local/lib/python3.10/dist-packages (from resemble-enhance) (0.12.1)\n",
            "Requirement already satisfied: torch==2.1.1 in /usr/local/lib/python3.10/dist-packages (from resemble-enhance) (2.1.1)\n",
            "Requirement already satisfied: torchaudio==2.1.1 in /usr/local/lib/python3.10/dist-packages (from resemble-enhance) (2.1.1)\n",
            "Requirement already satisfied: torchvision==0.16.1 in /usr/local/lib/python3.10/dist-packages (from resemble-enhance) (0.16.1)\n",
            "Requirement already satisfied: tqdm==4.66.1 in /usr/local/lib/python3.10/dist-packages (from resemble-enhance) (4.66.1)\n",
            "Requirement already satisfied: resampy==0.4.2 in /usr/local/lib/python3.10/dist-packages (from resemble-enhance) (0.4.2)\n",
            "Requirement already satisfied: tabulate==0.8.10 in /usr/local/lib/python3.10/dist-packages (from resemble-enhance) (0.8.10)\n",
            "Requirement already satisfied: gradio==4.8.0 in /usr/local/lib/python3.10/dist-packages (from resemble-enhance) (4.8.0)\n",
            "Requirement already satisfied: hjson in /usr/local/lib/python3.10/dist-packages (from deepspeed==0.12.4->resemble-enhance) (3.1.0)\n",
            "Requirement already satisfied: ninja in /usr/local/lib/python3.10/dist-packages (from deepspeed==0.12.4->resemble-enhance) (1.11.1.1)\n",
            "Requirement already satisfied: packaging>=20.0 in /usr/local/lib/python3.10/dist-packages (from deepspeed==0.12.4->resemble-enhance) (24.1)\n",
            "Requirement already satisfied: psutil in /usr/local/lib/python3.10/dist-packages (from deepspeed==0.12.4->resemble-enhance) (5.9.5)\n",
            "Requirement already satisfied: py-cpuinfo in /usr/local/lib/python3.10/dist-packages (from deepspeed==0.12.4->resemble-enhance) (9.0.0)\n",
            "Requirement already satisfied: pydantic in /usr/local/lib/python3.10/dist-packages (from deepspeed==0.12.4->resemble-enhance) (2.9.2)\n",
            "Requirement already satisfied: pynvml in /usr/local/lib/python3.10/dist-packages (from deepspeed==0.12.4->resemble-enhance) (11.5.3)\n",
            "Requirement already satisfied: aiofiles<24.0,>=22.0 in /usr/local/lib/python3.10/dist-packages (from gradio==4.8.0->resemble-enhance) (23.2.1)\n",
            "Requirement already satisfied: altair<6.0,>=4.2.0 in /usr/local/lib/python3.10/dist-packages (from gradio==4.8.0->resemble-enhance) (4.2.2)\n",
            "Requirement already satisfied: fastapi in /usr/local/lib/python3.10/dist-packages (from gradio==4.8.0->resemble-enhance) (0.115.0)\n",
            "Requirement already satisfied: ffmpy in /usr/local/lib/python3.10/dist-packages (from gradio==4.8.0->resemble-enhance) (0.4.0)\n",
            "Requirement already satisfied: gradio-client==0.7.1 in /usr/local/lib/python3.10/dist-packages (from gradio==4.8.0->resemble-enhance) (0.7.1)\n",
            "Requirement already satisfied: httpx in /usr/local/lib/python3.10/dist-packages (from gradio==4.8.0->resemble-enhance) (0.27.2)\n",
            "Requirement already satisfied: huggingface-hub>=0.14.0 in /usr/local/lib/python3.10/dist-packages (from gradio==4.8.0->resemble-enhance) (0.24.7)\n",
            "Requirement already satisfied: importlib-resources<7.0,>=1.3 in /usr/local/lib/python3.10/dist-packages (from gradio==4.8.0->resemble-enhance) (6.4.5)\n",
            "Requirement already satisfied: jinja2<4.0 in /usr/local/lib/python3.10/dist-packages (from gradio==4.8.0->resemble-enhance) (3.1.4)\n",
            "Requirement already satisfied: markupsafe~=2.0 in /usr/local/lib/python3.10/dist-packages (from gradio==4.8.0->resemble-enhance) (2.1.5)\n",
            "Requirement already satisfied: orjson~=3.0 in /usr/local/lib/python3.10/dist-packages (from gradio==4.8.0->resemble-enhance) (3.10.7)\n",
            "Requirement already satisfied: pillow<11.0,>=8.0 in /usr/local/lib/python3.10/dist-packages (from gradio==4.8.0->resemble-enhance) (10.4.0)\n",
            "Requirement already satisfied: pydub in /usr/local/lib/python3.10/dist-packages (from gradio==4.8.0->resemble-enhance) (0.25.1)\n",
            "Requirement already satisfied: python-multipart in /usr/local/lib/python3.10/dist-packages (from gradio==4.8.0->resemble-enhance) (0.0.12)\n",
            "Requirement already satisfied: pyyaml<7.0,>=5.0 in /usr/local/lib/python3.10/dist-packages (from gradio==4.8.0->resemble-enhance) (6.0.2)\n",
            "Requirement already satisfied: requests~=2.0 in /usr/local/lib/python3.10/dist-packages (from gradio==4.8.0->resemble-enhance) (2.32.3)\n",
            "Requirement already satisfied: semantic-version~=2.0 in /usr/local/lib/python3.10/dist-packages (from gradio==4.8.0->resemble-enhance) (2.10.0)\n",
            "Requirement already satisfied: tomlkit==0.12.0 in /usr/local/lib/python3.10/dist-packages (from gradio==4.8.0->resemble-enhance) (0.12.0)\n",
            "Requirement already satisfied: typer<1.0,>=0.9 in /usr/local/lib/python3.10/dist-packages (from typer[all]<1.0,>=0.9->gradio==4.8.0->resemble-enhance) (0.12.5)\n",
            "Requirement already satisfied: typing-extensions~=4.0 in /usr/local/lib/python3.10/dist-packages (from gradio==4.8.0->resemble-enhance) (4.12.2)\n",
            "Requirement already satisfied: uvicorn>=0.14.0 in /usr/local/lib/python3.10/dist-packages (from gradio==4.8.0->resemble-enhance) (0.31.0)\n",
            "Requirement already satisfied: audioread>=2.1.9 in /usr/local/lib/python3.10/dist-packages (from librosa==0.10.1->resemble-enhance) (3.0.1)\n",
            "Requirement already satisfied: scikit-learn>=0.20.0 in /usr/local/lib/python3.10/dist-packages (from librosa==0.10.1->resemble-enhance) (1.5.2)\n",
            "Requirement already satisfied: joblib>=0.14 in /usr/local/lib/python3.10/dist-packages (from librosa==0.10.1->resemble-enhance) (1.4.2)\n",
            "Requirement already satisfied: decorator>=4.3.0 in /usr/local/lib/python3.10/dist-packages (from librosa==0.10.1->resemble-enhance) (4.4.2)\n",
            "Requirement already satisfied: numba>=0.51.0 in /usr/local/lib/python3.10/dist-packages (from librosa==0.10.1->resemble-enhance) (0.60.0)\n",
            "Requirement already satisfied: pooch>=1.0 in /usr/local/lib/python3.10/dist-packages (from librosa==0.10.1->resemble-enhance) (1.8.2)\n",
            "Requirement already satisfied: soxr>=0.3.2 in /usr/local/lib/python3.10/dist-packages (from librosa==0.10.1->resemble-enhance) (0.5.0.post1)\n",
            "Requirement already satisfied: lazy-loader>=0.1 in /usr/local/lib/python3.10/dist-packages (from librosa==0.10.1->resemble-enhance) (0.4)\n",
            "Requirement already satisfied: msgpack>=1.0 in /usr/local/lib/python3.10/dist-packages (from librosa==0.10.1->resemble-enhance) (1.0.8)\n",
            "Requirement already satisfied: contourpy>=1.0.1 in /usr/local/lib/python3.10/dist-packages (from matplotlib==3.8.1->resemble-enhance) (1.3.0)\n",
            "Requirement already satisfied: cycler>=0.10 in /usr/local/lib/python3.10/dist-packages (from matplotlib==3.8.1->resemble-enhance) (0.12.1)\n",
            "Requirement already satisfied: fonttools>=4.22.0 in /usr/local/lib/python3.10/dist-packages (from matplotlib==3.8.1->resemble-enhance) (4.54.1)\n",
            "Requirement already satisfied: kiwisolver>=1.3.1 in /usr/local/lib/python3.10/dist-packages (from matplotlib==3.8.1->resemble-enhance) (1.4.7)\n",
            "Requirement already satisfied: pyparsing>=2.3.1 in /usr/local/lib/python3.10/dist-packages (from matplotlib==3.8.1->resemble-enhance) (3.1.4)\n",
            "Requirement already satisfied: python-dateutil>=2.7 in /usr/local/lib/python3.10/dist-packages (from matplotlib==3.8.1->resemble-enhance) (2.8.2)\n",
            "Requirement already satisfied: antlr4-python3-runtime==4.9.* in /usr/local/lib/python3.10/dist-packages (from omegaconf==2.3.0->resemble-enhance) (4.9.3)\n",
            "Requirement already satisfied: pytz>=2020.1 in /usr/local/lib/python3.10/dist-packages (from pandas==2.1.3->resemble-enhance) (2024.2)\n",
            "Requirement already satisfied: tzdata>=2022.1 in /usr/local/lib/python3.10/dist-packages (from pandas==2.1.3->resemble-enhance) (2024.2)\n",
            "Requirement already satisfied: markdown-it-py>=2.2.0 in /usr/local/lib/python3.10/dist-packages (from rich==13.7.0->resemble-enhance) (3.0.0)\n",
            "Requirement already satisfied: pygments<3.0.0,>=2.13.0 in /usr/local/lib/python3.10/dist-packages (from rich==13.7.0->resemble-enhance) (2.18.0)\n",
            "Requirement already satisfied: cffi>=1.0 in /usr/local/lib/python3.10/dist-packages (from soundfile==0.12.1->resemble-enhance) (1.17.1)\n",
            "Requirement already satisfied: filelock in /usr/local/lib/python3.10/dist-packages (from torch==2.1.1->resemble-enhance) (3.16.1)\n",
            "Requirement already satisfied: sympy in /usr/local/lib/python3.10/dist-packages (from torch==2.1.1->resemble-enhance) (1.13.3)\n",
            "Requirement already satisfied: networkx in /usr/local/lib/python3.10/dist-packages (from torch==2.1.1->resemble-enhance) (3.3)\n",
            "Requirement already satisfied: fsspec in /usr/local/lib/python3.10/dist-packages (from torch==2.1.1->resemble-enhance) (2024.6.1)\n",
            "Requirement already satisfied: nvidia-cuda-nvrtc-cu12==12.1.105 in /usr/local/lib/python3.10/dist-packages (from torch==2.1.1->resemble-enhance) (12.1.105)\n",
            "Requirement already satisfied: nvidia-cuda-runtime-cu12==12.1.105 in /usr/local/lib/python3.10/dist-packages (from torch==2.1.1->resemble-enhance) (12.1.105)\n",
            "Requirement already satisfied: nvidia-cuda-cupti-cu12==12.1.105 in /usr/local/lib/python3.10/dist-packages (from torch==2.1.1->resemble-enhance) (12.1.105)\n",
            "Requirement already satisfied: nvidia-cudnn-cu12==8.9.2.26 in /usr/local/lib/python3.10/dist-packages (from torch==2.1.1->resemble-enhance) (8.9.2.26)\n",
            "Requirement already satisfied: nvidia-cublas-cu12==12.1.3.1 in /usr/local/lib/python3.10/dist-packages (from torch==2.1.1->resemble-enhance) (12.1.3.1)\n",
            "Requirement already satisfied: nvidia-cufft-cu12==11.0.2.54 in /usr/local/lib/python3.10/dist-packages (from torch==2.1.1->resemble-enhance) (11.0.2.54)\n",
            "Requirement already satisfied: nvidia-curand-cu12==10.3.2.106 in /usr/local/lib/python3.10/dist-packages (from torch==2.1.1->resemble-enhance) (10.3.2.106)\n",
            "Requirement already satisfied: nvidia-cusolver-cu12==11.4.5.107 in /usr/local/lib/python3.10/dist-packages (from torch==2.1.1->resemble-enhance) (11.4.5.107)\n",
            "Requirement already satisfied: nvidia-cusparse-cu12==12.1.0.106 in /usr/local/lib/python3.10/dist-packages (from torch==2.1.1->resemble-enhance) (12.1.0.106)\n",
            "Requirement already satisfied: nvidia-nccl-cu12==2.18.1 in /usr/local/lib/python3.10/dist-packages (from torch==2.1.1->resemble-enhance) (2.18.1)\n",
            "Requirement already satisfied: nvidia-nvtx-cu12==12.1.105 in /usr/local/lib/python3.10/dist-packages (from torch==2.1.1->resemble-enhance) (12.1.105)\n",
            "Requirement already satisfied: triton==2.1.0 in /usr/local/lib/python3.10/dist-packages (from torch==2.1.1->resemble-enhance) (2.1.0)\n",
            "Requirement already satisfied: websockets<12.0,>=10.0 in /usr/local/lib/python3.10/dist-packages (from gradio-client==0.7.1->gradio==4.8.0->resemble-enhance) (11.0.3)\n",
            "Requirement already satisfied: nvidia-nvjitlink-cu12 in /usr/local/lib/python3.10/dist-packages (from nvidia-cusolver-cu12==11.4.5.107->torch==2.1.1->resemble-enhance) (12.6.68)\n",
            "Requirement already satisfied: entrypoints in /usr/local/lib/python3.10/dist-packages (from altair<6.0,>=4.2.0->gradio==4.8.0->resemble-enhance) (0.4)\n",
            "Requirement already satisfied: jsonschema>=3.0 in /usr/local/lib/python3.10/dist-packages (from altair<6.0,>=4.2.0->gradio==4.8.0->resemble-enhance) (4.23.0)\n",
            "Requirement already satisfied: toolz in /usr/local/lib/python3.10/dist-packages (from altair<6.0,>=4.2.0->gradio==4.8.0->resemble-enhance) (0.12.1)\n",
            "Requirement already satisfied: pycparser in /usr/local/lib/python3.10/dist-packages (from cffi>=1.0->soundfile==0.12.1->resemble-enhance) (2.22)\n",
            "Requirement already satisfied: mdurl~=0.1 in /usr/local/lib/python3.10/dist-packages (from markdown-it-py>=2.2.0->rich==13.7.0->resemble-enhance) (0.1.2)\n",
            "Requirement already satisfied: llvmlite<0.44,>=0.43.0dev0 in /usr/local/lib/python3.10/dist-packages (from numba>=0.51.0->librosa==0.10.1->resemble-enhance) (0.43.0)\n",
            "Requirement already satisfied: platformdirs>=2.5.0 in /usr/local/lib/python3.10/dist-packages (from pooch>=1.0->librosa==0.10.1->resemble-enhance) (4.3.6)\n",
            "Requirement already satisfied: annotated-types>=0.6.0 in /usr/local/lib/python3.10/dist-packages (from pydantic->deepspeed==0.12.4->resemble-enhance) (0.7.0)\n",
            "Requirement already satisfied: pydantic-core==2.23.4 in /usr/local/lib/python3.10/dist-packages (from pydantic->deepspeed==0.12.4->resemble-enhance) (2.23.4)\n",
            "Requirement already satisfied: six>=1.5 in /usr/local/lib/python3.10/dist-packages (from python-dateutil>=2.7->matplotlib==3.8.1->resemble-enhance) (1.16.0)\n",
            "Requirement already satisfied: charset-normalizer<4,>=2 in /usr/local/lib/python3.10/dist-packages (from requests~=2.0->gradio==4.8.0->resemble-enhance) (3.3.2)\n",
            "Requirement already satisfied: idna<4,>=2.5 in /usr/local/lib/python3.10/dist-packages (from requests~=2.0->gradio==4.8.0->resemble-enhance) (3.10)\n",
            "Requirement already satisfied: urllib3<3,>=1.21.1 in /usr/local/lib/python3.10/dist-packages (from requests~=2.0->gradio==4.8.0->resemble-enhance) (2.2.3)\n",
            "Requirement already satisfied: certifi>=2017.4.17 in /usr/local/lib/python3.10/dist-packages (from requests~=2.0->gradio==4.8.0->resemble-enhance) (2024.8.30)\n",
            "Requirement already satisfied: threadpoolctl>=3.1.0 in /usr/local/lib/python3.10/dist-packages (from scikit-learn>=0.20.0->librosa==0.10.1->resemble-enhance) (3.5.0)\n",
            "Requirement already satisfied: click>=8.0.0 in /usr/local/lib/python3.10/dist-packages (from typer<1.0,>=0.9->typer[all]<1.0,>=0.9->gradio==4.8.0->resemble-enhance) (8.1.7)\n",
            "Requirement already satisfied: shellingham>=1.3.0 in /usr/local/lib/python3.10/dist-packages (from typer<1.0,>=0.9->typer[all]<1.0,>=0.9->gradio==4.8.0->resemble-enhance) (1.5.4)\n",
            "\u001b[33mWARNING: typer 0.12.5 does not provide the extra 'all'\u001b[0m\u001b[33m\n",
            "\u001b[0mRequirement already satisfied: h11>=0.8 in /usr/local/lib/python3.10/dist-packages (from uvicorn>=0.14.0->gradio==4.8.0->resemble-enhance) (0.14.0)\n",
            "Requirement already satisfied: starlette<0.39.0,>=0.37.2 in /usr/local/lib/python3.10/dist-packages (from fastapi->gradio==4.8.0->resemble-enhance) (0.38.6)\n",
            "Requirement already satisfied: anyio in /usr/local/lib/python3.10/dist-packages (from httpx->gradio==4.8.0->resemble-enhance) (3.7.1)\n",
            "Requirement already satisfied: httpcore==1.* in /usr/local/lib/python3.10/dist-packages (from httpx->gradio==4.8.0->resemble-enhance) (1.0.6)\n",
            "Requirement already satisfied: sniffio in /usr/local/lib/python3.10/dist-packages (from httpx->gradio==4.8.0->resemble-enhance) (1.3.1)\n",
            "Requirement already satisfied: mpmath<1.4,>=1.1.0 in /usr/local/lib/python3.10/dist-packages (from sympy->torch==2.1.1->resemble-enhance) (1.3.0)\n",
            "Requirement already satisfied: attrs>=22.2.0 in /usr/local/lib/python3.10/dist-packages (from jsonschema>=3.0->altair<6.0,>=4.2.0->gradio==4.8.0->resemble-enhance) (24.2.0)\n",
            "Requirement already satisfied: jsonschema-specifications>=2023.03.6 in /usr/local/lib/python3.10/dist-packages (from jsonschema>=3.0->altair<6.0,>=4.2.0->gradio==4.8.0->resemble-enhance) (2023.12.1)\n",
            "Requirement already satisfied: referencing>=0.28.4 in /usr/local/lib/python3.10/dist-packages (from jsonschema>=3.0->altair<6.0,>=4.2.0->gradio==4.8.0->resemble-enhance) (0.35.1)\n",
            "Requirement already satisfied: rpds-py>=0.7.1 in /usr/local/lib/python3.10/dist-packages (from jsonschema>=3.0->altair<6.0,>=4.2.0->gradio==4.8.0->resemble-enhance) (0.20.0)\n",
            "Requirement already satisfied: exceptiongroup in /usr/local/lib/python3.10/dist-packages (from anyio->httpx->gradio==4.8.0->resemble-enhance) (1.2.2)\n"
          ]
        }
      ]
    },
    {
      "cell_type": "markdown",
      "source": [
        "## Imports"
      ],
      "metadata": {
        "id": "d8JRumUZXl0T"
      }
    },
    {
      "cell_type": "code",
      "source": [
        "import pathlib\n",
        "import librosa\n",
        "import librosa.display\n",
        "import matplotlib.pyplot as plt\n",
        "import numpy as np\n",
        "from pydub import AudioSegment, effects\n",
        "import os\n",
        "import IPython.display as ipd\n",
        "\n",
        "# RESEMBLE ENHANCE\n",
        "import gradio as gr\n",
        "import torch\n",
        "import torchaudio\n",
        "\n",
        "from resemble_enhance.enhancer.inference import denoise, enhance"
      ],
      "metadata": {
        "colab": {
          "base_uri": "https://localhost:8080/"
        },
        "id": "Uub7OdHEW5B-",
        "outputId": "09689128-093e-4c60-88d8-8b21fa61e4a2"
      },
      "execution_count": 4,
      "outputs": [
        {
          "output_type": "stream",
          "name": "stdout",
          "text": [
            "[2024-10-03 14:11:37,297] [INFO] [real_accelerator.py:161:get_accelerator] Setting ds_accelerator to cuda (auto detect)\n"
          ]
        }
      ]
    },
    {
      "cell_type": "code",
      "source": [
        "data_directory = \"./data/001_004/\"\n",
        "data_path = pathlib.Path(data_directory)\n",
        "files = list(data_path.glob('*.wav'))"
      ],
      "metadata": {
        "id": "QQF5yirLW7WI"
      },
      "execution_count": 5,
      "outputs": []
    },
    {
      "cell_type": "markdown",
      "source": [
        "## Functionality definitions"
      ],
      "metadata": {
        "id": "LTvKYJrGjwLm"
      }
    },
    {
      "cell_type": "code",
      "source": [
        "class Audio:\n",
        "  def __init__(self, audio, freq):\n",
        "    self.audio = audio\n",
        "    self.sr = freq\n",
        "\n",
        "  def display_play_button(self):\n",
        "    display(ipd.Audio(data=self.audio, rate=self.sr))\n",
        "\n",
        "if torch.cuda.is_available():\n",
        "    device = \"cuda\"\n",
        "else:\n",
        "    device = \"cpu\"\n",
        "\n",
        "def _fn(path, solver, nfe, tau, denoising):\n",
        "    if path is None:\n",
        "        return None, None\n",
        "\n",
        "    solver = solver.lower()\n",
        "    nfe = int(nfe)\n",
        "    lambd = 0.9 if denoising else 0.1\n",
        "\n",
        "    dwav, sr = torchaudio.load(path)\n",
        "    dwav = dwav.mean(dim=0)\n",
        "\n",
        "    wav1, new_sr = denoise(dwav, sr, device)\n",
        "    wav2, new_sr = enhance(dwav, sr, device, nfe=nfe, solver=solver, lambd=lambd, tau=tau)\n",
        "\n",
        "    wav1 = wav1.cpu().numpy()\n",
        "    wav2 = wav2.cpu().numpy()\n",
        "\n",
        "    return Audio(wav2, new_sr)\n"
      ],
      "metadata": {
        "id": "dXMxNuBQLA5v"
      },
      "execution_count": 11,
      "outputs": []
    },
    {
      "cell_type": "markdown",
      "source": [
        "### Enhancer settings"
      ],
      "metadata": {
        "id": "AA1cg7J1kbUJ"
      }
    },
    {
      "cell_type": "markdown",
      "source": [
        "## Sample processing"
      ],
      "metadata": {
        "id": "GsPyZ9yHkIPH"
      }
    },
    {
      "cell_type": "markdown",
      "source": [
        "### Execute enhancer"
      ],
      "metadata": {
        "id": "tw9e0qoCkoSR"
      }
    },
    {
      "cell_type": "code",
      "source": [
        "original_audio = []\n",
        "enhanced_audio = []\n",
        "\n",
        "solver = \"Midpoint\"\n",
        "nfe = 64\n",
        "tau = 0.5\n",
        "denoising = False\n",
        "\n",
        "for file in files:\n",
        "  enhanced_audio_sample = _fn(file, solver, nfe, tau, denoising)\n",
        "  # original_audio.append(Audio(audio2[1], audio2[0]))\n",
        "  enhanced_audio.append(enhanced_audio_sample)\n",
        "  break\n",
        "\n",
        "# original_audio[0].display_play_button()\n",
        "# enhanced_audio[0].display_play_button()"
      ],
      "metadata": {
        "id": "C34MfAKZkyiI",
        "outputId": "a7be0b06-d7b4-4a89-fd16-0f553a6e1f5f",
        "colab": {
          "base_uri": "https://localhost:8080/"
        }
      },
      "execution_count": null,
      "outputs": [
        {
          "output_type": "stream",
          "name": "stderr",
          "text": [
            "100%|██████████| 1/1 [00:16<00:00, 16.62s/it]\n",
            "  0%|          | 0/1 [00:00<?, ?it/s]"
          ]
        }
      ]
    },
    {
      "cell_type": "code",
      "source": [
        "# original_file, sr = librosa.load(files[0], sr=None)\n",
        "\n",
        "# enhanced_file = v1[1]\n",
        "# enhanced_file_fq = v1[0]\n",
        "\n",
        "# display(ipd.Audio(data=original_file, rate=sr))\n",
        "# display(ipd.Audio(data=enhanced_file, rate=enhanced_file_fq))\n",
        "# # print(v1[1])\n",
        "for original_file in original_files:\n",
        "  original_file.display_play_button()"
      ],
      "metadata": {
        "id": "HkgGKkEFHUKX"
      },
      "execution_count": null,
      "outputs": []
    }
  ],
  "metadata": {
    "language_info": {
      "name": "python"
    },
    "colab": {
      "provenance": []
    },
    "kernelspec": {
      "name": "python3",
      "display_name": "Python 3"
    }
  },
  "nbformat": 4,
  "nbformat_minor": 0
}